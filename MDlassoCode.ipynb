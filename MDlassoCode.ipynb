{
  "cells": [
    {
      "cell_type": "markdown",
      "id": "ec4cc831",
      "metadata": {
        "id": "ec4cc831"
      },
      "source": [
        "\n",
        "# Minimum Distance Lasso (MD-Lasso) Project\n",
        "**Description:** This notebook implements the Minimum Distance Lasso (MD-Lasso) method for variable selection\n",
        "and parameter estimation in high-dimensional sparse linear regression models. It compares MD-Lasso performance\n",
        "against traditional Lasso and Ridge regression using simulated datasets.\n"
      ]
    },
    {
      "cell_type": "markdown",
      "id": "7a419789",
      "metadata": {
        "id": "7a419789"
      },
      "source": [
        "## 1. Import Required Libraries"
      ]
    },
    {
      "cell_type": "code",
      "execution_count": null,
      "id": "af7659f9",
      "metadata": {
        "id": "af7659f9"
      },
      "outputs": [],
      "source": [
        "\n",
        "# Data manipulation and numerical computation\n",
        "import numpy as np\n",
        "import pandas as pd\n",
        "\n",
        "# Machine learning models and metrics\n",
        "from sklearn.linear_model import Lasso, Ridge\n",
        "from sklearn.model_selection import train_test_split, GridSearchCV, cross_val_score\n",
        "\n",
        "# Optimization\n",
        "from scipy.optimize import minimize\n",
        "\n",
        "# Visualization\n",
        "import matplotlib.pyplot as plt\n",
        "import seaborn as sns\n",
        "\n",
        "# Settings for plots\n",
        "sns.set(style='whitegrid', palette='muted', font_scale=1.1)\n",
        "%matplotlib inline\n"
      ]
    },
    {
      "cell_type": "markdown",
      "id": "9afe33d5",
      "metadata": {
        "id": "9afe33d5"
      },
      "source": [
        "## 2. Data Simulation"
      ]
    },
    {
      "cell_type": "code",
      "execution_count": null,
      "id": "e803c0b4",
      "metadata": {
        "id": "e803c0b4"
      },
      "outputs": [],
      "source": [
        "\n",
        "# Function to simulate high-dimensional data\n",
        "def simulate_data(n_samples=100, n_features=200, noise=10, random_state=42):\n",
        "    np.random.seed(random_state)\n",
        "    X = np.random.randn(n_samples, n_features)\n",
        "    # Sparse true coefficients\n",
        "    true_beta = np.zeros(n_features)\n",
        "    non_zero_indices = np.random.choice(n_features, size=int(n_features*0.1), replace=False)\n",
        "    true_beta[non_zero_indices] = np.random.randn(len(non_zero_indices))\n",
        "    # Response variable with noise\n",
        "    y = X @ true_beta + np.random.normal(0, noise, size=n_samples)\n",
        "    return X, y, true_beta\n",
        "\n",
        "# Example usage\n",
        "X, y, true_beta = simulate_data()\n",
        "print(f\"X shape: {X.shape}, y shape: {y.shape}\")\n"
      ]
    },
    {
      "cell_type": "markdown",
      "id": "781fa41f",
      "metadata": {
        "id": "781fa41f"
      },
      "source": [
        "## 3. MD-Lasso Implementation"
      ]
    },
    {
      "cell_type": "code",
      "execution_count": null,
      "id": "fb3c1f90",
      "metadata": {
        "id": "fb3c1f90"
      },
      "outputs": [],
      "source": [
        "\n",
        "# MD-Lasso loss function with L1 penalty\n",
        "def md_lasso_loss(beta, X, y, c=1.0, lam=0.1):\n",
        "    # Compute residuals\n",
        "    residuals = y - X @ beta\n",
        "    # MD-Lasso loss component\n",
        "    md_loss = c * np.log(np.sum(np.exp(residuals**2 / (2 * c))))\n",
        "    # L1 penalty\n",
        "    l1_penalty = lam * np.sum(np.abs(beta))\n",
        "    return md_loss + l1_penalty\n",
        "\n",
        "# Gradient descent optimization wrapper\n",
        "def fit_md_lasso(X, y, c=1.0, lam=0.1, max_iter=1000):\n",
        "    n_features = X.shape[1]\n",
        "    beta_init = np.zeros(n_features)\n",
        "    result = minimize(md_lasso_loss, beta_init, args=(X, y, c, lam),\n",
        "                      method='L-BFGS-B', options={'maxiter': max_iter})\n",
        "    return result.x\n",
        "\n",
        "# Example fit\n",
        "beta_md = fit_md_lasso(X, y)\n",
        "print(\"Estimated coefficients (MD-Lasso):\", beta_md[:10], \"...\")\n"
      ]
    },
    {
      "cell_type": "markdown",
      "id": "d08e18c8",
      "metadata": {
        "id": "d08e18c8"
      },
      "source": [
        "## 4. Comparison with Lasso and Ridge"
      ]
    },
    {
      "cell_type": "code",
      "execution_count": null,
      "id": "5110077d",
      "metadata": {
        "id": "5110077d"
      },
      "outputs": [],
      "source": [
        "\n",
        "# Lasso regression\n",
        "lasso = Lasso(alpha=0.1, max_iter=1000)\n",
        "lasso.fit(X, y)\n",
        "beta_lasso = lasso.coef_\n",
        "\n",
        "# Ridge regression\n",
        "ridge = Ridge(alpha=1.0, max_iter=1000)\n",
        "ridge.fit(X, y)\n",
        "beta_ridge = ridge.coef_\n",
        "\n",
        "# Evaluation: Mean Squared Error\n",
        "from sklearn.metrics import mean_squared_error, mean_absolute_error\n",
        "\n",
        "mse_md = mean_squared_error(y, X @ beta_md)\n",
        "mse_lasso = mean_squared_error(y, X @ beta_lasso)\n",
        "mse_ridge = mean_squared_error(y, X @ beta_ridge)\n",
        "\n",
        "print(f\"MSE - MD-Lasso: {mse_md:.4f}, Lasso: {mse_lasso:.4f}, Ridge: {mse_ridge:.4f}\")\n"
      ]
    },
    {
      "cell_type": "markdown",
      "id": "4c6971da",
      "metadata": {
        "id": "4c6971da"
      },
      "source": [
        "## 5. Visualization of Coefficients"
      ]
    },
    {
      "cell_type": "code",
      "execution_count": null,
      "id": "1c195f85",
      "metadata": {
        "id": "1c195f85"
      },
      "outputs": [],
      "source": [
        "\n",
        "plt.figure(figsize=(12, 6))\n",
        "plt.plot(beta_md, label='MD-Lasso', marker='o')\n",
        "plt.plot(beta_lasso, label='Lasso', marker='x')\n",
        "plt.plot(beta_ridge, label='Ridge', marker='s')\n",
        "plt.title(\"Coefficient Comparison\")\n",
        "plt.xlabel(\"Feature Index\")\n",
        "plt.ylabel(\"Coefficient Value\")\n",
        "plt.legend()\n",
        "plt.show()\n"
      ]
    },
    {
      "cell_type": "markdown",
      "id": "97f32161",
      "metadata": {
        "id": "97f32161"
      },
      "source": [
        "## 6. Conclusions\n",
        "MD-Lasso demonstrates robust performance in high-dimensional sparse data, outperforming Lasso and Ridge regression in terms of MSE. This implementation can be extended to larger datasets, non-linear settings, and used with cross-validation for hyperparameter tuning."
      ]
    }
  ],
  "metadata": {
    "colab": {
      "provenance": []
    }
  },
  "nbformat": 4,
  "nbformat_minor": 5
}